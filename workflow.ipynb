{
 "cells": [
  {
   "cell_type": "code",
   "execution_count": null,
   "metadata": {},
   "outputs": [],
   "source": [
    "import sys,os"
   ]
  },
  {
   "cell_type": "code",
   "execution_count": null,
   "metadata": {},
   "outputs": [],
   "source": [
    "sys.path.append(\"/opt/notebooks/GPU-GWAS/\")\n",
    "os.chdir(\"/opt/notebooks/GPU-GWAS/\")"
   ]
  },
  {
   "cell_type": "code",
   "execution_count": null,
   "metadata": {},
   "outputs": [],
   "source": [
    "import argparse\n",
    "import time\n",
    "from collections import defaultdict\n",
    "\n",
    "import cupy as cp\n",
    "import cudf\n",
    "import pandas as pd\n",
    "import rmm\n",
    "\n",
    "%matplotlib inline\n",
    "import matplotlib.pyplot as plt\n",
    "import numpy as np\n",
    "\n",
    "import gpugwas.io as gwasio\n",
    "import gpugwas.algorithms as algos\n",
    "import gpugwas.viz as viz\n",
    "import gpugwas.dataprep as dp\n",
    "import gpugwas.runner as runner\n",
    "from gpugwas.vizb import show_qq_plot, show_manhattan_plot"
   ]
  },
  {
   "cell_type": "code",
   "execution_count": null,
   "metadata": {},
   "outputs": [],
   "source": [
    "vcf_path='./data/test.vcf'\n",
    "annotation_path='./data/1kg_annotations.txt'"
   ]
  },
  {
   "cell_type": "code",
   "execution_count": null,
   "metadata": {},
   "outputs": [],
   "source": [
    "# Initialize Memory Pool to 10GB\n",
    "cudf.set_allocator(pool=True, initial_pool_size=1e10)\n",
    "cp.cuda.set_allocator(rmm.rmm_cupy_allocator)"
   ]
  },
  {
   "cell_type": "markdown",
   "metadata": {},
   "source": [
    "## Load data into dataframes"
   ]
  },
  {
   "cell_type": "code",
   "execution_count": null,
   "metadata": {},
   "outputs": [],
   "source": [
    "# Load data\n",
    "vcf_df, feature_mapping = gwasio.load_vcf(vcf_path, info_keys=[], format_keys=[\"GT\"])\n",
    "#vcf_df = cudf.io.parquet.read_parquet(\"/data/1000-genomes/hail-dataset/1kg_full_jdaw_v2.pqt\")\n",
    "ann_df = gwasio.load_annotations(annotation_path)\n",
    "print(vcf_df)\n",
    "print(\"==\")\n",
    "print(ann_df)"
   ]
  },
  {
   "cell_type": "markdown",
   "metadata": {},
   "source": [
    "## Generate phenotype dataframe by merging vcf and annotation DF"
   ]
  },
  {
   "cell_type": "code",
   "execution_count": null,
   "metadata": {},
   "outputs": [],
   "source": [
    "phenotypes_df, features = dp.create_phenotype_df(vcf_df, ann_df, ['CaffeineConsumption','isFemale','SuperPopulation'], \"call_GT\",\n",
    "                                       vcf_sample_col=\"sample\", ann_sample_col=\"Sample\")"
   ]
  },
  {
   "cell_type": "markdown",
   "metadata": {},
   "source": [
    "## Run PCA on phenotype matrix"
   ]
  },
  {
   "cell_type": "code",
   "execution_count": null,
   "metadata": {},
   "outputs": [],
   "source": [
    "# Run PCA on phenotype dataframe\n",
    "phenotypes_df = algos.PCA_concat(phenotypes_df, 2)\n",
    "print(phenotypes_df)"
   ]
  },
  {
   "cell_type": "code",
   "execution_count": null,
   "metadata": {},
   "outputs": [],
   "source": [
    "colors = {'AFR':'red', 'AMR':'green', 'EAS':'blue', 'EUR':'yellow', 'SAS':'purple'}\n",
    "from matplotlib.lines import Line2D\n",
    "plt.scatter(phenotypes_df.PC0.to_array(), phenotypes_df.PC1.to_array(), \n",
    "            c=phenotypes_df.SuperPopulation.to_pandas().map(colors).values, s=9)\n",
    "legend_elements = [Line2D([0], [0], marker='o', color='w', label=key, \n",
    "                          markerfacecolor=value) for key, value in colors.items()]\n",
    "plt.legend(handles=legend_elements)"
   ]
  },
  {
   "cell_type": "markdown",
   "metadata": {},
   "source": [
    "## Run GWAS with linear regression for each independent variant"
   ]
  },
  {
   "cell_type": "code",
   "execution_count": null,
   "metadata": {},
   "outputs": [],
   "source": [
    "# Fit linear regression model for each variant feature\n",
    "print(\"Fitting linear regression model\")\n",
    "\n",
    "df = runner.run_gwas(phenotypes_df, 'CaffeineConsumption', features, algos.cuml_LinearReg, add_cols=['PC0', 'PC1'])\n",
    "print(df)"
   ]
  },
  {
   "cell_type": "code",
   "execution_count": null,
   "metadata": {},
   "outputs": [],
   "source": [
    "plt.hist(-np.log(df[\"p_value\"].to_array()), bins = np.linspace(0,1,100));"
   ]
  },
  {
   "cell_type": "code",
   "execution_count": null,
   "metadata": {},
   "outputs": [],
   "source": [
    "df.drop(columns=\"chrom\", inplace=True)\n",
    "g_feature_mapping = cudf.DataFrame(feature_mapping[[\"feature_id\", \"pos\", \"chrom\"]])\n",
    "df = df.merge(g_feature_mapping, how=\"inner\", left_on=[\"feature\"], right_on=[\"feature_id\"])\n",
    "df.chrom = df.chrom.astype(\"int64\")"
   ]
  },
  {
   "cell_type": "code",
   "execution_count": null,
   "metadata": {},
   "outputs": [],
   "source": [
    "#plt.plot(result[\"feature\"].to_array(), -np.log10(result[\"p_value\"].to_array()), \".\");\n",
    "\n",
    "show_manhattan_plot(result, 'chrom', 'p_value', 'feature')"
   ]
  },
  {
   "cell_type": "code",
   "execution_count": null,
   "metadata": {},
   "outputs": [],
   "source": [
    "a = df[\"p_value\"].to_array()\n",
    "a.sort()\n",
    "expect_p = np.linspace(0, 1, len(a))"
   ]
  },
  {
   "cell_type": "code",
   "execution_count": null,
   "metadata": {},
   "outputs": [],
   "source": [
    "#plt.plot(-np.log10(expect_p), -np.log10(a), '.')\n",
    "#plt.plot([0,5],[0,5])\n",
    "\n",
    "df[\"e_value\"] = np.linspace(0, 1, len(a))\n",
    "df[\"p_s_value\"] = a\n",
    "show_qq_plot(df, 'e_value', 'p_s_value', x_max=3, y_max=3)"
   ]
  },
  {
   "cell_type": "code",
   "execution_count": null,
   "metadata": {},
   "outputs": [],
   "source": [
    "from bokeh.plotting import figure\n",
    "from bokeh.io import output_notebook, push_notebook, show\n",
    "\n",
    "output_notebook()\n",
    "\n",
    "plot = figure()\n",
    "plot.circle(-np.log10(expect_p+1e-10), -np.log10(a))\n",
    "\n",
    "handle = show(plot, notebook_handle=True)\n",
    "\n",
    "# Update the plot title in the earlier cell\n",
    "plot.title.text = \"qqplot\"\n",
    "push_notebook(handle=handle)"
   ]
  },
  {
   "cell_type": "code",
   "execution_count": null,
   "metadata": {},
   "outputs": [],
   "source": [
    "!wget https://www.broadinstitute.org/files/shared/diabetes/scandinavs/DGI_chr3_pvals.txt"
   ]
  },
  {
   "cell_type": "code",
   "execution_count": null,
   "metadata": {},
   "outputs": [],
   "source": [
    "pvals = []\n",
    "with open('DGI_chr3_pvals.txt') as f:\n",
    "    for r in f:\n",
    "        r = r.strip()\n",
    "        if r == 'PVAL':\n",
    "            continue\n",
    "        pvals.append(float(r))\n",
    "pvals = np.array(pvals)"
   ]
  },
  {
   "cell_type": "code",
   "execution_count": null,
   "metadata": {},
   "outputs": [],
   "source": [
    "pvals.sort()\n",
    "expect_p = np.linspace(0, 1, len(pvals))"
   ]
  },
  {
   "cell_type": "code",
   "execution_count": null,
   "metadata": {},
   "outputs": [],
   "source": [
    "plt.plot(-np.log10(expect_p), -np.log10(pvals), '.')\n",
    "plt.plot([0,5],[0,5])"
   ]
  },
  {
   "cell_type": "code",
   "execution_count": null,
   "metadata": {},
   "outputs": [],
   "source": [
    "from bokeh.plotting import figure\n",
    "from bokeh.io import output_notebook, push_notebook, show\n",
    "f#rom bokeh.models import Range1d\n",
    "\n",
    "output_notebook()\n",
    "\n",
    "\n",
    "plot = figure(plot_width=300, plot_height=300, \n",
    "              y_range=(0,5),\n",
    "              x_range=(0,5))\n",
    "plot.circle(-np.log10(expect_p+1e-10), -np.log10(pvals))\n",
    "plot.line([0,5],[0,5])\n",
    "\n",
    "handle = show(plot, notebook_handle=True)\n",
    "\n",
    "# Update the plot title in the earlier cell\n",
    "plot.title.text = \"qqplot\"\n",
    "push_notebook(handle=handle)"
   ]
  },
  {
   "cell_type": "code",
   "execution_count": null,
   "metadata": {},
   "outputs": [],
   "source": [
    "pvals"
   ]
  }
 ],
 "metadata": {
  "kernelspec": {
   "display_name": "hail-Rapids-16",
   "language": "python",
   "name": "hail-rapids-16"
  },
  "language_info": {
   "codemirror_mode": {
    "name": "ipython",
    "version": 3
   },
   "file_extension": ".py",
   "mimetype": "text/x-python",
   "name": "python",
   "nbconvert_exporter": "python",
   "pygments_lexer": "ipython3",
   "version": "3.7.9"
  }
 },
 "nbformat": 4,
 "nbformat_minor": 4
}
